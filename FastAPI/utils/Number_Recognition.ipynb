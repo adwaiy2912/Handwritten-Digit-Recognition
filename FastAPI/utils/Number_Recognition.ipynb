{
  "nbformat": 4,
  "nbformat_minor": 0,
  "metadata": {
    "colab": {
      "provenance": [],
      "gpuType": "T4"
    },
    "kernelspec": {
      "name": "python3",
      "display_name": "Python 3"
    },
    "language_info": {
      "name": "python"
    },
    "accelerator": "GPU"
  },
  "cells": [
    {
      "cell_type": "code",
      "execution_count": null,
      "metadata": {
        "id": "ZCVnMk6x3Enk"
      },
      "outputs": [],
      "source": [
        "import os\n",
        "import pickle\n",
        "import pandas as pd\n",
        "\n",
        "from pathlib import Path\n",
        "from sklearn.preprocessing import MinMaxScaler\n",
        "from sklearn.neighbors import KNeighborsClassifier\n",
        "from sklearn.naive_bayes import GaussianNB\n",
        "from sklearn.ensemble import RandomForestClassifier, VotingClassifier\n",
        "from sklearn.svm import SVC\n",
        "from xgboost import XGBClassifier\n",
        "from tensorflow.keras.datasets import mnist\n",
        "from sklearn.metrics import accuracy_score, confusion_matrix, classification_report"
      ]
    },
    {
      "cell_type": "code",
      "source": [
        "# Ensure 'models' directory exists\n",
        "Path(\"models\").mkdir(parents=True, exist_ok=True)\n",
        "\n",
        "# Load MNIST dataset\n",
        "(train_images, train_labels), (test_images, test_labels) = mnist.load_data()\n",
        "print(\"✅ Loaded MNIST images.\")\n",
        "\n",
        "# Flatten images into vectors\n",
        "x_train = pd.DataFrame(train_images.reshape(-1, 28*28))\n",
        "x_test = pd.DataFrame(test_images.reshape(-1, 28*28))\n",
        "y_train = pd.Series(train_labels)\n",
        "y_test = pd.Series(test_labels)\n",
        "\n",
        "print(\"✅ Train and test DataFrames created.\")"
      ],
      "metadata": {
        "colab": {
          "base_uri": "https://localhost:8080/"
        },
        "id": "y2onN3nv3OKk",
        "outputId": "7878ec75-986b-4a45-8d49-5f2c5dc96e8d"
      },
      "execution_count": null,
      "outputs": [
        {
          "output_type": "stream",
          "name": "stdout",
          "text": [
            "Downloading data from https://storage.googleapis.com/tensorflow/tf-keras-datasets/mnist.npz\n",
            "\u001b[1m11490434/11490434\u001b[0m \u001b[32m━━━━━━━━━━━━━━━━━━━━\u001b[0m\u001b[37m\u001b[0m \u001b[1m2s\u001b[0m 0us/step\n",
            "✅ Loaded MNIST images.\n",
            "✅ Train and test DataFrames created.\n"
          ]
        }
      ]
    },
    {
      "cell_type": "code",
      "source": [
        "# Normalize pixel values\n",
        "scaler = MinMaxScaler()\n",
        "x_train = scaler.fit_transform(x_train)\n",
        "x_test = scaler.transform(x_test)\n",
        "\n",
        "print(\"✅ Data normalized.\")"
      ],
      "metadata": {
        "id": "A8LtsEcE3YB9",
        "colab": {
          "base_uri": "https://localhost:8080/"
        },
        "outputId": "46caad61-c83d-41ab-951c-7d348fc14257"
      },
      "execution_count": null,
      "outputs": [
        {
          "output_type": "stream",
          "name": "stdout",
          "text": [
            "✅ Data normalized.\n"
          ]
        }
      ]
    },
    {
      "cell_type": "code",
      "source": [
        "# Train individual models\n",
        "print(\"🚀 Training models...\")"
      ],
      "metadata": {
        "id": "q-qxX-0f3nnd",
        "colab": {
          "base_uri": "https://localhost:8080/"
        },
        "outputId": "f63ac751-63fd-4f20-b848-db5d8e1aa5f8"
      },
      "execution_count": null,
      "outputs": [
        {
          "output_type": "stream",
          "name": "stdout",
          "text": [
            "🚀 Training models...\n"
          ]
        }
      ]
    },
    {
      "cell_type": "markdown",
      "source": [
        "KNN Classifier"
      ],
      "metadata": {
        "id": "yMEhsJw96J8U"
      }
    },
    {
      "cell_type": "code",
      "source": [
        "KNN_model = KNeighborsClassifier(n_neighbors=3)\n",
        "KNN_model.fit(x_train, y_train)\n",
        "KNN_y_pred = KNN_model.predict(x_test)\n",
        "print(f'KNN Accuracy Score: {accuracy_score(y_test, KNN_y_pred)}')"
      ],
      "metadata": {
        "colab": {
          "base_uri": "https://localhost:8080/"
        },
        "id": "WiUHywI53uQr",
        "outputId": "5900a4ab-538c-4d57-976f-8b67d3bd061c"
      },
      "execution_count": null,
      "outputs": [
        {
          "output_type": "stream",
          "name": "stdout",
          "text": [
            "KNN Accuracy Score: 0.9705\n"
          ]
        }
      ]
    },
    {
      "cell_type": "markdown",
      "source": [
        "Naive Bayes Classifier"
      ],
      "metadata": {
        "id": "N1Tu4Mjp6M4K"
      }
    },
    {
      "cell_type": "code",
      "source": [
        "NB_model = GaussianNB()\n",
        "NB_model.fit(x_train, y_train)\n",
        "NB_y_pred = NB_model.predict(x_test)\n",
        "print(f'Naive Bayes Accuracy: {accuracy_score(y_test, NB_y_pred)}')"
      ],
      "metadata": {
        "colab": {
          "base_uri": "https://localhost:8080/"
        },
        "id": "__O08gid6RqQ",
        "outputId": "c5bee4bb-1a93-4299-e345-9c4a2c7d8106"
      },
      "execution_count": null,
      "outputs": [
        {
          "output_type": "stream",
          "name": "stdout",
          "text": [
            "Naive Bayes Accuracy: 0.5544\n"
          ]
        }
      ]
    },
    {
      "cell_type": "markdown",
      "source": [
        "XGBoost Classifier"
      ],
      "metadata": {
        "id": "eVWyHrzV6seY"
      }
    },
    {
      "cell_type": "code",
      "source": [
        "XGB_model = XGBClassifier(use_label_encoder=False, eval_metric='mlogloss')\n",
        "XGB_model.fit(x_train, y_train)\n",
        "XGB_y_pred = XGB_model.predict(x_test)\n",
        "print(f'xgboost accuracy: {accuracy_score(y_test, XGB_y_pred)}')"
      ],
      "metadata": {
        "colab": {
          "base_uri": "https://localhost:8080/"
        },
        "id": "nfY4JubE6ws2",
        "outputId": "e73317e5-f460-40a9-9d99-63e2be49885f"
      },
      "execution_count": null,
      "outputs": [
        {
          "output_type": "stream",
          "name": "stderr",
          "text": [
            "/usr/local/lib/python3.11/dist-packages/xgboost/core.py:158: UserWarning: [18:26:20] WARNING: /workspace/src/learner.cc:740: \n",
            "Parameters: { \"use_label_encoder\" } are not used.\n",
            "\n",
            "  warnings.warn(smsg, UserWarning)\n"
          ]
        },
        {
          "output_type": "stream",
          "name": "stdout",
          "text": [
            "xgboost accuracy: 0.9795\n"
          ]
        }
      ]
    },
    {
      "cell_type": "markdown",
      "source": [
        "SVC Classifier"
      ],
      "metadata": {
        "id": "2s8mudc_614w"
      }
    },
    {
      "cell_type": "code",
      "source": [
        "SVC_model = SVC(probability=True)\n",
        "SVC_model.fit(x_train, y_train)\n",
        "SVC_y_pred = SVC_model.predict(x_test)\n",
        "print(f'support vector classifier accuracy: {accuracy_score(y_test, SVC_y_pred)}')"
      ],
      "metadata": {
        "colab": {
          "base_uri": "https://localhost:8080/"
        },
        "id": "TS7OqU8A64Jz",
        "outputId": "6dad1e5b-b05d-4fa4-fb9c-40aeed28ada3"
      },
      "execution_count": null,
      "outputs": [
        {
          "output_type": "stream",
          "name": "stdout",
          "text": [
            "support vector classifier accuracy: 0.9791\n"
          ]
        }
      ]
    },
    {
      "cell_type": "markdown",
      "source": [
        "Random Forest Classifier"
      ],
      "metadata": {
        "id": "Dqhgi6s17FNT"
      }
    },
    {
      "cell_type": "code",
      "source": [
        "RF_model = RandomForestClassifier()\n",
        "RF_model.fit(x_train, y_train)\n",
        "RF_y_pred = RF_model.predict(x_test)\n",
        "print(f'random forest classifier accuracy: {accuracy_score(y_test, RF_y_pred)}')"
      ],
      "metadata": {
        "colab": {
          "base_uri": "https://localhost:8080/"
        },
        "id": "Qd6fzjPZ7IUq",
        "outputId": "a5811661-3bb0-48fa-cb0e-c7fc611fc7fb"
      },
      "execution_count": null,
      "outputs": [
        {
          "output_type": "stream",
          "name": "stdout",
          "text": [
            "random forest classifier accuracy: 0.9699\n"
          ]
        }
      ]
    },
    {
      "cell_type": "markdown",
      "source": [
        "Voting Classifier"
      ],
      "metadata": {
        "id": "qP1tNVnT7QPI"
      }
    },
    {
      "cell_type": "code",
      "source": [
        "# Voting Classifier using trained models\n",
        "VC_model = VotingClassifier(\n",
        "    estimators=[\n",
        "        ('knn', KNN_model),\n",
        "        ('nb', NB_model),\n",
        "        ('svc', SVC_model),\n",
        "        ('rf', RF_model),\n",
        "        ('xgb', XGB_model)\n",
        "    ],\n",
        "    voting='soft'\n",
        ")\n",
        "VC_model.fit(x_train, y_train)\n",
        "VC_y_pred = VC_model.predict(x_test)\n",
        "print(f'random forest classifier accuracy: {accuracy_score(y_test, VC_y_pred)}')"
      ],
      "metadata": {
        "colab": {
          "base_uri": "https://localhost:8080/"
        },
        "id": "z82I-GKW7Sdj",
        "outputId": "8a4b112a-f49a-4350-d162-01812fb2211b"
      },
      "execution_count": null,
      "outputs": [
        {
          "output_type": "stream",
          "name": "stderr",
          "text": [
            "/usr/local/lib/python3.11/dist-packages/xgboost/core.py:158: UserWarning: [19:16:39] WARNING: /workspace/src/learner.cc:740: \n",
            "Parameters: { \"use_label_encoder\" } are not used.\n",
            "\n",
            "  warnings.warn(smsg, UserWarning)\n"
          ]
        },
        {
          "output_type": "stream",
          "name": "stdout",
          "text": [
            "random forest classifier accuracy: 0.9798\n"
          ]
        }
      ]
    },
    {
      "cell_type": "code",
      "source": [
        "print(\"✅ Models trained successfully.\")"
      ],
      "metadata": {
        "colab": {
          "base_uri": "https://localhost:8080/"
        },
        "id": "w3NyLkU9Wotm",
        "outputId": "c635ccea-d139-475e-9c1d-63e2cad94a78"
      },
      "execution_count": null,
      "outputs": [
        {
          "output_type": "stream",
          "name": "stdout",
          "text": [
            "✅ Models trained successfully.\n"
          ]
        }
      ]
    },
    {
      "cell_type": "markdown",
      "source": [
        "Export models"
      ],
      "metadata": {
        "id": "c-FEzzRAbnXI"
      }
    },
    {
      "cell_type": "code",
      "source": [
        "# Save models to 'models' directory\n",
        "models_to_save = {\n",
        "    \"KNN_model\": KNN_model,\n",
        "    \"NB_model\": NB_model,\n",
        "    \"XGB_model\": XGB_model,\n",
        "    \"SVC_model\": SVC_model,\n",
        "    \"RF_model\": RF_model,\n",
        "    \"VC_model\": VC_model\n",
        "}"
      ],
      "metadata": {
        "id": "Q9c9ws0qbldG"
      },
      "execution_count": null,
      "outputs": []
    },
    {
      "cell_type": "code",
      "source": [
        "for model_name, model in models_to_save.items():\n",
        "    with open(f\"models/{model_name}.pkl\", \"wb\") as f:\n",
        "        pickle.dump(model, f)\n",
        "    print(f\"📦 Saved {model_name} to 'models/{model_name}.pkl'\")\n",
        "\n",
        "print(\"🎉 All models saved successfully!\")"
      ],
      "metadata": {
        "colab": {
          "base_uri": "https://localhost:8080/"
        },
        "id": "23u-u2A0WtaR",
        "outputId": "d773cf29-e5a9-48d8-c02b-7de1c8db7566"
      },
      "execution_count": null,
      "outputs": [
        {
          "output_type": "stream",
          "name": "stdout",
          "text": [
            "📦 Saved KNN_model to 'models/KNN_model.pkl'\n",
            "📦 Saved NB_model to 'models/NB_model.pkl'\n",
            "📦 Saved XGB_model to 'models/XGB_model.pkl'\n",
            "📦 Saved SVC_model to 'models/SVC_model.pkl'\n",
            "📦 Saved RF_model to 'models/RF_model.pkl'\n",
            "📦 Saved VC_model to 'models/VC_model.pkl'\n",
            "🎉 All models saved successfully!\n"
          ]
        }
      ]
    },
    {
      "cell_type": "markdown",
      "source": [
        "Save a zip (optional)"
      ],
      "metadata": {
        "id": "i9lQpdb0hsep"
      }
    },
    {
      "cell_type": "code",
      "source": [
        "import shutil\n",
        "from google.colab import files\n",
        "\n",
        "# Zip the entire 'models' folder\n",
        "shutil.make_archive('models_backup', 'zip', 'models')\n",
        "\n",
        "# Download the zip file\n",
        "files.download('models_backup.zip')"
      ],
      "metadata": {
        "colab": {
          "base_uri": "https://localhost:8080/",
          "height": 17
        },
        "id": "-TE4ABHTj-l_",
        "outputId": "3a1bc7e3-0e40-499c-f8ce-fde1e07d14d6"
      },
      "execution_count": null,
      "outputs": [
        {
          "output_type": "display_data",
          "data": {
            "text/plain": [
              "<IPython.core.display.Javascript object>"
            ],
            "application/javascript": [
              "\n",
              "    async function download(id, filename, size) {\n",
              "      if (!google.colab.kernel.accessAllowed) {\n",
              "        return;\n",
              "      }\n",
              "      const div = document.createElement('div');\n",
              "      const label = document.createElement('label');\n",
              "      label.textContent = `Downloading \"${filename}\": `;\n",
              "      div.appendChild(label);\n",
              "      const progress = document.createElement('progress');\n",
              "      progress.max = size;\n",
              "      div.appendChild(progress);\n",
              "      document.body.appendChild(div);\n",
              "\n",
              "      const buffers = [];\n",
              "      let downloaded = 0;\n",
              "\n",
              "      const channel = await google.colab.kernel.comms.open(id);\n",
              "      // Send a message to notify the kernel that we're ready.\n",
              "      channel.send({})\n",
              "\n",
              "      for await (const message of channel.messages) {\n",
              "        // Send a message to notify the kernel that we're ready.\n",
              "        channel.send({})\n",
              "        if (message.buffers) {\n",
              "          for (const buffer of message.buffers) {\n",
              "            buffers.push(buffer);\n",
              "            downloaded += buffer.byteLength;\n",
              "            progress.value = downloaded;\n",
              "          }\n",
              "        }\n",
              "      }\n",
              "      const blob = new Blob(buffers, {type: 'application/binary'});\n",
              "      const a = document.createElement('a');\n",
              "      a.href = window.URL.createObjectURL(blob);\n",
              "      a.download = filename;\n",
              "      div.appendChild(a);\n",
              "      a.click();\n",
              "      div.remove();\n",
              "    }\n",
              "  "
            ]
          },
          "metadata": {}
        },
        {
          "output_type": "display_data",
          "data": {
            "text/plain": [
              "<IPython.core.display.Javascript object>"
            ],
            "application/javascript": [
              "download(\"download_91fecb0c-1822-424c-95fa-70c1921cde46\", \"models_backup.zip\", 116334927)"
            ]
          },
          "metadata": {}
        }
      ]
    }
  ]
}